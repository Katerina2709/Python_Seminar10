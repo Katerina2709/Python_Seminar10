{
  "nbformat": 4,
  "nbformat_minor": 0,
  "metadata": {
    "colab": {
      "provenance": []
    },
    "kernelspec": {
      "name": "python3",
      "display_name": "Python 3"
    },
    "language_info": {
      "name": "python"
    }
  },
  "cells": [
    {
      "cell_type": "code",
      "execution_count": 2,
      "metadata": {
        "id": "KBvgM9K0Q0Dr"
      },
      "outputs": [],
      "source": [
        "import pandas as pd"
      ]
    },
    {
      "cell_type": "markdown",
      "source": [
        "Задание 44.\n",
        " В ячейке ниже представлен код генерирующий DataFrame, которая состоит всего из 1 столбца. Ваша задача перевести его в one hot вид. Сможете ли вы это сделать без get_dummies?\n"
      ],
      "metadata": {
        "id": "cNH2VJzDoQ-L"
      }
    },
    {
      "cell_type": "code",
      "source": [
        "import random \n",
        "lst = ['robot'] * 10 \n",
        "lst += ['human'] * 10 \n",
        "random.shuffle(lst) \n",
        "data = pd.DataFrame({'whoAmI': lst}) \n",
        "print (data) "
      ],
      "metadata": {
        "colab": {
          "base_uri": "https://localhost:8080/"
        },
        "id": "MDRw5MC1ouwx",
        "outputId": "d63f451e-9951-417a-c338-d9eca262ef3e"
      },
      "execution_count": 12,
      "outputs": [
        {
          "output_type": "stream",
          "name": "stdout",
          "text": [
            "   whoAmI\n",
            "0   robot\n",
            "1   robot\n",
            "2   human\n",
            "3   human\n",
            "4   human\n",
            "5   human\n",
            "6   human\n",
            "7   robot\n",
            "8   robot\n",
            "9   robot\n",
            "10  robot\n",
            "11  robot\n",
            "12  human\n",
            "13  robot\n",
            "14  human\n",
            "15  robot\n",
            "16  human\n",
            "17  robot\n",
            "18  human\n",
            "19  human\n"
          ]
        }
      ]
    },
    {
      "cell_type": "markdown",
      "source": [
        "1. Решение с использованием get_dummies"
      ],
      "metadata": {
        "id": "_s2ZyvRbUjHh"
      }
    },
    {
      "cell_type": "code",
      "source": [
        "data_new = pd.get_dummies(data, 'whoAmI')\n",
        "print (data_new)"
      ],
      "metadata": {
        "colab": {
          "base_uri": "https://localhost:8080/"
        },
        "id": "gU-9joXhppUB",
        "outputId": "aa95b266-1501-42d1-8e45-6a1b13f5ad76"
      },
      "execution_count": 13,
      "outputs": [
        {
          "output_type": "stream",
          "name": "stdout",
          "text": [
            "    whoAmI_human  whoAmI_robot\n",
            "0              0             1\n",
            "1              0             1\n",
            "2              1             0\n",
            "3              1             0\n",
            "4              1             0\n",
            "5              1             0\n",
            "6              1             0\n",
            "7              0             1\n",
            "8              0             1\n",
            "9              0             1\n",
            "10             0             1\n",
            "11             0             1\n",
            "12             1             0\n",
            "13             0             1\n",
            "14             1             0\n",
            "15             0             1\n",
            "16             1             0\n",
            "17             0             1\n",
            "18             1             0\n",
            "19             1             0\n"
          ]
        }
      ]
    },
    {
      "cell_type": "markdown",
      "source": [
        "2. Решение без get_dummies\n"
      ],
      "metadata": {
        "id": "Msczn6D5rsQa"
      }
    },
    {
      "cell_type": "code",
      "source": [
        "data['human'] = 0\n",
        "data['robot'] = 0\n",
        "data.loc[data['whoAmI'] == 'human', 'human'] = 1\n",
        "data.loc[data['whoAmI'] == 'robot', 'robot'] = 1\n",
        "data.drop(columns = 'whoAmI', inplace = True)\n",
        "print(data)\n"
      ],
      "metadata": {
        "colab": {
          "base_uri": "https://localhost:8080/"
        },
        "id": "L3tc770Rtxat",
        "outputId": "d6a5831e-d9e2-4b0b-de4b-4dd274538d1e"
      },
      "execution_count": 14,
      "outputs": [
        {
          "output_type": "stream",
          "name": "stdout",
          "text": [
            "    human  robot\n",
            "0       0      1\n",
            "1       0      1\n",
            "2       1      0\n",
            "3       1      0\n",
            "4       1      0\n",
            "5       1      0\n",
            "6       1      0\n",
            "7       0      1\n",
            "8       0      1\n",
            "9       0      1\n",
            "10      0      1\n",
            "11      0      1\n",
            "12      1      0\n",
            "13      0      1\n",
            "14      1      0\n",
            "15      0      1\n",
            "16      1      0\n",
            "17      0      1\n",
            "18      1      0\n",
            "19      1      0\n"
          ]
        }
      ]
    }
  ]
}